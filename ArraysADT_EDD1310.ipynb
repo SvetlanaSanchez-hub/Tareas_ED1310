{
  "nbformat": 4,
  "nbformat_minor": 0,
  "metadata": {
    "colab": {
      "name": "ArraysADT_EDD1310.ipynb",
      "provenance": [],
      "authorship_tag": "ABX9TyOEsIPOK7DoUOqhtNlOPRfs",
      "include_colab_link": true
    },
    "kernelspec": {
      "name": "python3",
      "display_name": "Python 3"
    },
    "language_info": {
      "name": "python"
    }
  },
  "cells": [
    {
      "cell_type": "markdown",
      "metadata": {
        "id": "view-in-github",
        "colab_type": "text"
      },
      "source": [
        "<a href=\"https://colab.research.google.com/github/SvetlanaSanchez-hub/ArraysADT/blob/main/ArraysADT_EDD1310.ipynb\" target=\"_parent\"><img src=\"https://colab.research.google.com/assets/colab-badge.svg\" alt=\"Open In Colab\"/></a>"
      ]
    },
    {
      "cell_type": "code",
      "metadata": {
        "colab": {
          "base_uri": "https://localhost:8080/"
        },
        "id": "cJR8HPoFfsni",
        "outputId": "359a55a4-6869-476d-ac31-5460ace83fe4"
      },
      "source": [
        "    class Array:\n",
        "        def __init__( self , tam):\n",
        "            self.__tamanio = tam\n",
        "            self.__data = [ 0 for x in range(self.__tamanio) ]\n",
        "\n",
        "        def to_string( self ):\n",
        "            info = \"\"\n",
        "            for dato in self.__data:\n",
        "                info = info + str(dato) + \"/\"\n",
        "            return info  \n",
        "\n",
        "        def get_item( self , index ):\n",
        "            return self.__data[index]\n",
        "\n",
        "        def get_length( self ):\n",
        "            return len ( self.__data )\n",
        "\n",
        "        def set_item( self, dato , index):\n",
        "            #hace falta revisar los limites\n",
        "            if index >= 0 and index < self.get_length():\n",
        "                self.__data[index] = dato\n",
        "            else:\n",
        "                print(\"Error: Indice fuera de rango\")\n",
        "\n",
        "        def clear( self , dato ):\n",
        "            self.__data = [ 0 for x in range(self.__tamanio) ]\n",
        "\n",
        "\n",
        "\n",
        "\n",
        "    ejemplo = Array(20)\n",
        "    print(ejemplo.to_string())\n",
        "    print(ejemplo.get_item(2))\n",
        "    ejemplo.set_item(45 , 2)\n",
        "    print(ejemplo.to_string())\n",
        "    ejemplo.clear( 4 )\n",
        "    print(ejemplo.to_string())\n",
        "\n",
        "    print(ejemplo.get_length())"
      ],
      "execution_count": 3,
      "outputs": [
        {
          "output_type": "stream",
          "name": "stdout",
          "text": [
            "0/0/0/0/0/0/0/0/0/0/0/0/0/0/0/0/0/0/0/0/\n",
            "0\n",
            "0/0/45/0/0/0/0/0/0/0/0/0/0/0/0/0/0/0/0/0/\n",
            "0/0/0/0/0/0/0/0/0/0/0/0/0/0/0/0/0/0/0/0/\n",
            "20\n"
          ]
        }
      ]
    },
    {
      "cell_type": "code",
      "metadata": {
        "colab": {
          "base_uri": "https://localhost:8080/"
        },
        "id": "DmTgoWfogf6m",
        "outputId": "70c9d174-96cc-4631-8f49-e37ffbbe8a0a"
      },
      "source": [
        "    lista = [ 3 * x for x in range(10) ]\n",
        "    print(lista)"
      ],
      "execution_count": 4,
      "outputs": [
        {
          "output_type": "stream",
          "name": "stdout",
          "text": [
            "[0, 3, 6, 9, 12, 15, 18, 21, 24, 27]\n"
          ]
        }
      ]
    },
    {
      "cell_type": "markdown",
      "metadata": {
        "id": "GtXNL-HIlULo"
      },
      "source": [
        "La carpeta datos es volátil"
      ]
    },
    {
      "cell_type": "code",
      "metadata": {
        "colab": {
          "base_uri": "https://localhost:8080/"
        },
        "id": "z5XY3v-xlKUs",
        "outputId": "5e21a488-bd79-4e6a-8867-bf7349548fef"
      },
      "source": [
        "    !cat junio.dat"
      ],
      "execution_count": 8,
      "outputs": [
        {
          "output_type": "stream",
          "name": "stdout",
          "text": [
            "numero de trabajador, nombres, paterno, materno, horas extra, sueldo base, año de ingreso\r\n",
            "2345,CARLOS,PEREZ,CASTILLO,0,9850,2017\r\n",
            "5754,ANGEL,GOMEZ,GARRIDO,1,9850,2020\r\n",
            "5345,JESUS,MARTIN,SANTOS,2,9850,2016\r\n",
            "3267,DAVID,JIMENEZ,LOZANO,2,9850,2017\r\n",
            "8765,PEDRO,RUIZ,GUERRERO,2,9850,2017\r\n",
            "5454,DANIEL,HERNANDEZ,CANO,3,9850,2018\r\n",
            "3456,ALEJANDRO,DIAZ,PRIETO,2,9850,2018\r\n",
            "3445,MARIA,MORENO,MENDEZ,1,9850,2018\r\n",
            "9088,ALBERTO,MU�OZ,CRUZ,1,9850,2017\r\n",
            "8877,RAFAEL,ALVAREZ,FLORES,2,9850,2017\r\n",
            "6767,FERNANDO,ROMERO,HERRERA,4,9850,2019\r\n",
            "5654,PABLO,ALONSO,GALLEGO,1,9850,2019\r\n",
            "4323,JORGE,GUTIERREZ,MARQUEZ,2,9850,2020\r\n",
            "2232,RAMON,NAVARRO,LEON,1,9850,2016"
          ]
        }
      ]
    },
    {
      "cell_type": "code",
      "metadata": {
        "colab": {
          "base_uri": "https://localhost:8080/"
        },
        "id": "4nkrgmzwm8AN",
        "outputId": "b4fe0521-e5fc-4102-a6cc-2947467b97b6"
      },
      "source": [
        "    archivo = open('junio.dat' , 'rt' , encoding='latin-1' )\n",
        "    print(archivo.read())"
      ],
      "execution_count": 11,
      "outputs": [
        {
          "output_type": "stream",
          "name": "stdout",
          "text": [
            "numero de trabajador, nombres, paterno, materno, horas extra, sueldo base, aÃ±o de ingreso\n",
            "2345,CARLOS,PEREZ,CASTILLO,0,9850,2017\n",
            "5754,ANGEL,GOMEZ,GARRIDO,1,9850,2020\n",
            "5345,JESUS,MARTIN,SANTOS,2,9850,2016\n",
            "3267,DAVID,JIMENEZ,LOZANO,2,9850,2017\n",
            "8765,PEDRO,RUIZ,GUERRERO,2,9850,2017\n",
            "5454,DANIEL,HERNANDEZ,CANO,3,9850,2018\n",
            "3456,ALEJANDRO,DIAZ,PRIETO,2,9850,2018\n",
            "3445,MARIA,MORENO,MENDEZ,1,9850,2018\n",
            "9088,ALBERTO,MUOZ,CRUZ,1,9850,2017\n",
            "8877,RAFAEL,ALVAREZ,FLORES,2,9850,2017\n",
            "6767,FERNANDO,ROMERO,HERRERA,4,9850,2019\n",
            "5654,PABLO,ALONSO,GALLEGO,1,9850,2019\n",
            "4323,JORGE,GUTIERREZ,MARQUEZ,2,9850,2020\n",
            "2232,RAMON,NAVARRO,LEON,1,9850,2016\n"
          ]
        }
      ]
    },
    {
      "cell_type": "code",
      "metadata": {
        "id": "w4Yk_oOGn4gM"
      },
      "source": [
        "    class Trabajador:\n",
        "        def __init__( self , nt, nom, pat, mat, he, sb, ai ):\n",
        "            self.__numero_trabajador = nt \n",
        "            # asi para todos los atributos\n",
        "\n",
        "        # aqui van todos los métodos de acceso (get y set)\n",
        "        def set_numero_trabajador( self , nt ):\n",
        "            self.__numero_trabajador = nt \n",
        "        \n",
        "        # metodos de uso general --> metodos que hacen calculos de la logica\n",
        "        "
      ],
      "execution_count": null,
      "outputs": []
    },
    {
      "cell_type": "code",
      "metadata": {
        "id": "EIiwBr0JqBvl"
      },
      "source": [
        "    class NominaADT:\n",
        "        def __init__( self , ruta_archivo ):\n",
        "            # abir el archivo y determinar el numero de empleados (14)---> num_emp\n",
        "            sel.__dat = Array(num_emp)\n",
        "\n",
        "        def calculae_sueldos( self ):\n",
        "            # iterar sobre el Array y hacer el calculo de sueldos\n",
        "\n",
        "        def buscar_mas_antiguo( self ):\n",
        "            # iterar y buscará enn el array el de mayor antiguedad\n",
        "\n",
        "        def buscar_menor_antiguedad( self ):\n",
        "            # iterar y buscará enn el array el de menor antiguedad\n",
        "\n"
      ],
      "execution_count": null,
      "outputs": []
    },
    {
      "cell_type": "code",
      "metadata": {
        "colab": {
          "base_uri": "https://localhost:8080/"
        },
        "id": "-uAwL8AEsCeP",
        "outputId": "4117cb17-1d68-4dab-e7da-e2df57185347"
      },
      "source": [
        "    sueldo_base = 100\n",
        "    anio = 2019\n",
        "    anti = 2\n",
        "    prestacion = 100*(2*0.03)\n",
        "    print(sueldo_base + prestacion)"
      ],
      "execution_count": 13,
      "outputs": [
        {
          "output_type": "stream",
          "name": "stdout",
          "text": [
            "106.0\n"
          ]
        }
      ]
    }
  ]
}
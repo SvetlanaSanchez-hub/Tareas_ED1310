{
  "nbformat": 4,
  "nbformat_minor": 0,
  "metadata": {
    "colab": {
      "name": "colas_1310.ipynb",
      "provenance": [],
      "authorship_tag": "ABX9TyMGjPcg7JTDbmd2sNrdizJw",
      "include_colab_link": true
    },
    "kernelspec": {
      "name": "python3",
      "display_name": "Python 3"
    },
    "language_info": {
      "name": "python"
    }
  },
  "cells": [
    {
      "cell_type": "markdown",
      "metadata": {
        "id": "view-in-github",
        "colab_type": "text"
      },
      "source": [
        "<a href=\"https://colab.research.google.com/github/SvetlanaSanchez-hub/Tareas_ED1310/blob/main/colas_1310.ipynb\" target=\"_parent\"><img src=\"https://colab.research.google.com/assets/colab-badge.svg\" alt=\"Open In Colab\"/></a>"
      ]
    },
    {
      "cell_type": "code",
      "metadata": {
        "id": "3jFiqusTKDOA"
      },
      "source": [
        "    class Queue:\n",
        "        def __init__(self):\n",
        "            self.data = []\n",
        "\n",
        "        def is_empty(self):\n",
        "            return len(self.data) == 0\n",
        "\n",
        "        def length(self):\n",
        "            return len(self.data)\n",
        "\n",
        "        def enqueue(self, value):\n",
        "            self.data.append(value)\n",
        "\n",
        "        def dequeue(self):\n",
        "            return self.data.pop(0)\n",
        "\n",
        "        def to_string(self):\n",
        "            for elem in self.data:\n",
        "                print(f\"| {elem} | <--\" , end=\"\")\n",
        "            print(\"\")\n",
        "\n",
        "        "
      ],
      "execution_count": 18,
      "outputs": []
    },
    {
      "cell_type": "code",
      "metadata": {
        "colab": {
          "base_uri": "https://localhost:8080/"
        },
        "id": "YXjwzElKM5jm",
        "outputId": "7a9fbf85-cc23-411b-e270-af7865a1e033"
      },
      "source": [
        "    cola = Queue()\n",
        "    print(\"Está vacío?\", cola.is_empty())\n",
        "    print(\"Número de elementos = \" , cola.length())\n",
        "    cola.enqueue(10)\n",
        "    cola.enqueue(20)\n",
        "    cola.enqueue(30)\n",
        "    print(\"Está vacío?\", cola.is_empty())\n",
        "    print(\"Número de elementos = \" , cola.length())\n",
        "    cola.enqueue(40)\n",
        "    cola.enqueue(50)\n",
        "    cola.enqueue(60)\n",
        "    cola.to_string()\n",
        "    siguiente = cola.dequeue()\n",
        "    print(\"Atendiendo a: \" , siguiente)\n",
        "    cola.to_string()\n",
        "\n"
      ],
      "execution_count": 19,
      "outputs": [
        {
          "output_type": "stream",
          "name": "stdout",
          "text": [
            "Está vacío? True\n",
            "Número de elementos =  0\n",
            "Está vacío? False\n",
            "Número de elementos =  3\n",
            "| 10 | <--| 20 | <--| 30 | <--| 40 | <--| 50 | <--| 60 | <--\n",
            "Atendiendo a:  10\n",
            "| 20 | <--| 30 | <--| 40 | <--| 50 | <--| 60 | <--\n"
          ]
        }
      ]
    },
    {
      "cell_type": "markdown",
      "metadata": {
        "id": "Cde1jGVGQr2J"
      },
      "source": [
        "# Variantes del ADT Cola\n",
        "1. Circulares\n",
        "2. Prioridad\n",
        "    1. acotada\n",
        "    2. no acotada "
      ]
    }
  ]
}
{
  "nbformat": 4,
  "nbformat_minor": 0,
  "metadata": {
    "colab": {
      "name": "colas_1310.ipynb",
      "provenance": [],
      "authorship_tag": "ABX9TyMLGLms++fO4a6N8qbxgFnd",
      "include_colab_link": true
    },
    "kernelspec": {
      "name": "python3",
      "display_name": "Python 3"
    },
    "language_info": {
      "name": "python"
    }
  },
  "cells": [
    {
      "cell_type": "markdown",
      "metadata": {
        "id": "view-in-github",
        "colab_type": "text"
      },
      "source": [
        "<a href=\"https://colab.research.google.com/github/SvetlanaSanchez-hub/Tareas_ED1310/blob/main/colas_1310.ipynb\" target=\"_parent\"><img src=\"https://colab.research.google.com/assets/colab-badge.svg\" alt=\"Open In Colab\"/></a>"
      ]
    },
    {
      "cell_type": "code",
      "metadata": {
        "id": "3jFiqusTKDOA"
      },
      "source": [
        "    class Queue:\n",
        "        def __init__(self):\n",
        "            self.data = []\n",
        "\n",
        "        def is_empty(self):\n",
        "            return len(self.data) == 0\n",
        "\n",
        "        def length(self):\n",
        "            return len(self.data)\n",
        "\n",
        "        def enqueue(self, value):\n",
        "            self.data.append(value)\n",
        "\n",
        "        def dequeue(self):\n",
        "            return self.data.pop(0)\n",
        "\n",
        "        def to_string(self):\n",
        "            for elem in self.data:\n",
        "                print(f\"| {elem} | <--\" , end=\"\")\n",
        "            print(\"\")\n",
        "\n",
        "        "
      ],
      "execution_count": 5,
      "outputs": []
    },
    {
      "cell_type": "code",
      "metadata": {
        "colab": {
          "base_uri": "https://localhost:8080/"
        },
        "id": "YXjwzElKM5jm",
        "outputId": "fb3e98b4-57b0-4365-e417-a4506a13a8cd"
      },
      "source": [
        "    cola = Queue()\n",
        "    print(\"Está vacío?\", cola.is_empty())\n",
        "    print(\"Número de elementos = \" , cola.length())\n",
        "    cola.enqueue(10)\n",
        "    cola.enqueue(20)\n",
        "    cola.enqueue(30)\n",
        "    print(\"Está vacío?\", cola.is_empty())\n",
        "    print(\"Número de elementos = \" , cola.length())\n",
        "    cola.enqueue(40)\n",
        "    cola.enqueue(50)\n",
        "    cola.enqueue(60)\n",
        "    cola.to_string()\n",
        "    siguiente = cola.dequeue()\n",
        "    print(\"Atendiendo a: \" , siguiente)\n",
        "    cola.to_string()\n",
        "\n"
      ],
      "execution_count": 6,
      "outputs": [
        {
          "output_type": "stream",
          "name": "stdout",
          "text": [
            "Está vacío? True\n",
            "Número de elementos =  0\n",
            "Está vacío? False\n",
            "Número de elementos =  3\n",
            "| 10 | <--| 20 | <--| 30 | <--| 40 | <--| 50 | <--| 60 | <--\n",
            "Atendiendo a:  10\n",
            "| 20 | <--| 30 | <--| 40 | <--| 50 | <--| 60 | <--\n"
          ]
        }
      ]
    },
    {
      "cell_type": "markdown",
      "metadata": {
        "id": "Cde1jGVGQr2J"
      },
      "source": [
        "# Variantes del ADT Cola\n",
        "1. Circulares\n",
        "2. Prioridad\n",
        "    1. acotada\n",
        "    2. no acotada "
      ]
    },
    {
      "cell_type": "code",
      "metadata": {
        "id": "9wIHMiHz3Msq"
      },
      "source": [
        "    class PriorityQueue:\n",
        "        def __init__(self):\n",
        "            self.data = []\n",
        "            self.control = []\n",
        "\n",
        "        def is_empty(self):\n",
        "            return len(self.data) == 0 \n",
        "\n",
        "        def empty_control(self):\n",
        "            return len(self.control) == 0\n",
        "\n",
        "        def lenght(self):\n",
        "            return len(self.data)\n",
        "\n",
        "        def enqueue(self , prioridad , value):\n",
        "            if prioridad < 1:\n",
        "                self.data.append(value)\n",
        "\n",
        "            elif prioridad > 0:\n",
        "\n",
        "                self.control.append(prioridad)\n",
        "                self.control.sort()\n",
        "\n",
        "                x = (self.control.count(int(prioridad)))\n",
        "                suma = 0\n",
        "                for num in range(prioridad):\n",
        "                    e = self.control.count(num)\n",
        "                    suma += e\n",
        "                self.data.insert(suma , value)\n",
        "\n",
        "        \n",
        "\n",
        "        def dequeue(self):\n",
        "            if self.is_empty() == True:\n",
        "                print(\"No hay nada que sacar\")\n",
        "            else:\n",
        "                if self.empty_control == True:\n",
        "                    self.data.pop(0)\n",
        "                    print(\"Se sacaron todos los valores con prioridad\")\n",
        "                else:\n",
        "                    self.data.pop(0)\n",
        "                    self.control.pop(0)\n",
        "    \n",
        "        def to_string(self):\n",
        "            for elem in self.data:\n",
        "                print(f\"| {elem} | <---\" ,end = \"\" )\n",
        "            print(\"\")       \n",
        "\n",
        "            print(\"Control_Prioridad\")\n",
        "            for x in self.control:\n",
        "                print(f\"| { x } | <---\" ,end = \"\" )\n",
        "                print(\"\\n\\n\")\n",
        "\n",
        "        \n"
      ],
      "execution_count": 7,
      "outputs": []
    },
    {
      "cell_type": "code",
      "metadata": {
        "colab": {
          "base_uri": "https://localhost:8080/"
        },
        "id": "nzLYpHMC5vQ7",
        "outputId": "b8b670a0-6442-4c9f-bbdd-faff5da187a1"
      },
      "source": [
        "    col_priory = PriorityQueue()\n",
        "    col_priory.enqueue(1 , \"valor 1\")\n",
        "    col_priory.enqueue(3 , \"vvalor 2\")\n",
        "    col_priory.enqueue(2 , \"valor 3\")\n",
        "    col_priory.enqueue(2 , \"valor 4\")\n",
        "    col_priory.enqueue(3 , \"valor 5\")\n",
        "    col_priory.enqueue(1 , \"valor 6\")\n",
        "    col_priory.enqueue(4 , \"valor 7\")\n",
        "    col_priory.enqueue(0 , \"valor 8\")\n",
        "    col_priory.enqueue(0 , \"valor 9\")\n",
        "    col_priory.to_string()\n",
        "    col_priory.dequeue()\n",
        "    col_priory.dequeue()\n",
        "    col_priory.dequeue()\n",
        "    col_priory.dequeue()\n",
        "    col_priory.dequeue()\n",
        "    col_priory.dequeue()\n",
        "    col_priory.dequeue()\n",
        "\n",
        "    col_priory.to_string()"
      ],
      "execution_count": 8,
      "outputs": [
        {
          "output_type": "stream",
          "name": "stdout",
          "text": [
            "| valor 6 | <---| valor 1 | <---| valor 4 | <---| valor 3 | <---| valor 5 | <---| vvalor 2 | <---| valor 7 | <---| valor 8 | <---| valor 9 | <---\n",
            "Control_Prioridad\n",
            "| 1 | <---\n",
            "\n",
            "\n",
            "| 1 | <---\n",
            "\n",
            "\n",
            "| 2 | <---\n",
            "\n",
            "\n",
            "| 2 | <---\n",
            "\n",
            "\n",
            "| 3 | <---\n",
            "\n",
            "\n",
            "| 3 | <---\n",
            "\n",
            "\n",
            "| 4 | <---\n",
            "\n",
            "\n",
            "| valor 8 | <---| valor 9 | <---\n",
            "Control_Prioridad\n"
          ]
        }
      ]
    }
  ]
}
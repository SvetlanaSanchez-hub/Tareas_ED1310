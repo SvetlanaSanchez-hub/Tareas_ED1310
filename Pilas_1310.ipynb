{
  "nbformat": 4,
  "nbformat_minor": 0,
  "metadata": {
    "colab": {
      "name": "Pilas_1310.ipynb",
      "provenance": [],
      "authorship_tag": "ABX9TyP4XJnWHvh61wWOm7hYYcl6",
      "include_colab_link": true
    },
    "kernelspec": {
      "name": "python3",
      "display_name": "Python 3"
    },
    "language_info": {
      "name": "python"
    }
  },
  "cells": [
    {
      "cell_type": "markdown",
      "metadata": {
        "id": "view-in-github",
        "colab_type": "text"
      },
      "source": [
        "<a href=\"https://colab.research.google.com/github/SvetlanaSanchez-hub/Tareas_ED1310/blob/main/Pilas_1310.ipynb\" target=\"_parent\"><img src=\"https://colab.research.google.com/assets/colab-badge.svg\" alt=\"Open In Colab\"/></a>"
      ]
    },
    {
      "cell_type": "code",
      "metadata": {
        "id": "ganIcMhTIEXf"
      },
      "source": [
        "    class StackADT:\n",
        "        def __init__(self,):\n",
        "            self.__data = list()\n",
        "\n",
        "\n",
        "        #regresa true si la pila está vacía\n",
        "        def is_empty(self):\n",
        "            return len(self.__data) == 0\n",
        "\n",
        "        def get_length(self):\n",
        "            return len(self.__data)\n",
        "\n",
        "        def pop (self):\n",
        "            if self.is_empty():\n",
        "                print(\"Pila vacía, nada que sacar\")\n",
        "            else:\n",
        "                return self.__data.pop()\n",
        "\n",
        "        def peek(self):\n",
        "            if self.is_empty():\n",
        "                print(\"Pila vacía, nada que sacar\")\n",
        "            else:\n",
        "                return self.__data[-1]\n",
        "\n",
        "        def push(self, value):\n",
        "            self.__data.append(value)\n",
        "\n",
        "        def to_string(self):\n",
        "            for item in self.__data[::-1]:\n",
        "                print(f\" | {item} | \")\n"
      ],
      "execution_count": 5,
      "outputs": []
    },
    {
      "cell_type": "code",
      "metadata": {
        "colab": {
          "base_uri": "https://localhost:8080/"
        },
        "id": "a82qvrfHQd13",
        "outputId": "f8245e71-2830-41a5-e652-3021effa64be"
      },
      "source": [
        "    pila = StackADT()\n",
        "    print(\"Está vacía? =\", pila.is_empty() )\n",
        "    print(\"# elementos: \", pila.get_length() )\n",
        "    pila.push(10)\n",
        "    print(\"Está vacía? =\", pila.is_empty() )\n",
        "    print(\"# elementos: \", pila.get_length() )\n",
        "    pila.push(20)\n",
        "    pila.push(30)\n",
        "    pila.push(40)\n",
        "    pila.to_string()\n",
        "    print(pila.pop()) #imprime 40\n",
        "    print(pila.peek())\n",
        "    pila.to_string() #imprime 30"
      ],
      "execution_count": 2,
      "outputs": [
        {
          "output_type": "stream",
          "name": "stdout",
          "text": [
            "Está vacía? = True\n",
            "# elementos:  0\n",
            "Está vacía? = False\n",
            "# elementos:  1\n",
            " | 40 | \n",
            " | 30 | \n",
            " | 20 | \n",
            " | 10 | \n",
            "40\n",
            "30\n",
            " | 30 | \n",
            " | 20 | \n",
            " | 10 | \n"
          ]
        }
      ]
    },
    {
      "cell_type": "markdown",
      "metadata": {
        "id": "M31tVkZfynUs"
      },
      "source": [
        "#Aplicacion de pilas, balanceo de llaves en programacion"
      ]
    },
    {
      "cell_type": "code",
      "metadata": {
        "colab": {
          "base_uri": "https://localhost:8080/"
        },
        "id": "jBK40TyhzQSa",
        "outputId": "9c590401-424f-4465-d84a-11acf8f44711"
      },
      "source": [
        "    !cat prog.txt"
      ],
      "execution_count": 3,
      "outputs": [
        {
          "output_type": "stream",
          "name": "stdout",
          "text": [
            "#include <stdio.h>\r\n",
            "int main()\r\n",
            "{\r\n",
            "    int num, count, sum = 0;\r\n",
            "\r\n",
            "    printf(\"Enter a positive integer: \");\r\n",
            "    scanf(\"%d\", &num);\r\n",
            "\r\n",
            "    // for loop terminates when num is less than count\r\n",
            "    for(count = 1; count <= num; ++count)\r\n",
            "    {\r\n",
            "        sum += count;\r\n",
            "    }\r\n",
            "\r\n",
            "    printf(\"Sum = %d\", sum);\r\n",
            "\r\n",
            "    return 0;\r\n",
            "}"
          ]
        }
      ]
    },
    {
      "cell_type": "code",
      "metadata": {
        "colab": {
          "base_uri": "https://localhost:8080/"
        },
        "id": "wl5YryJbzy7x",
        "outputId": "cee8b47c-ed98-4be0-b16a-5a550493df85"
      },
      "source": [
        "    entrada = open('anio.txt', 'rt')\n",
        "    codigo = entrada.read()\n",
        "    #print(codigo)\n",
        "    pilaControl = StackADT()\n",
        "    pilaControl.push(\"#\") #caracter de pila vacía \n",
        "\n",
        "    for letra in codigo: \n",
        "        #print(f\"--> {letra} <--\")\n",
        "        if letra == '{':    # regla 1\n",
        "            pilaControl.push(\"{\")\n",
        "        elif letra == '}':  # regla 2\n",
        "            basura = pilaControl.pop()\n",
        "        else:\n",
        "            pass \n",
        "\n",
        "    # NOTA: Este código aún no contempla desbalanceo de mas llaves de cierre \n",
        "    if pilaControl.peek() == '#':\n",
        "        print(\"El código proporcionado está correctamente balanceado\")\n",
        "    else: \n",
        "        print(\"El código no está balanceado en llaves { y }\")"
      ],
      "execution_count": 10,
      "outputs": [
        {
          "output_type": "stream",
          "name": "stdout",
          "text": [
            "El código proporcionado está correctamente balanceado\n"
          ]
        }
      ]
    },
    {
      "cell_type": "markdown",
      "metadata": {
        "id": "tESb47tT42Rg"
      },
      "source": [
        "# 1.- Hacer un programa que implemente el algoritmo de pila vacía para verificar balanceo de llaves ( '{' y '}') y balanceo de parénteisis ( '(' y ')') para codigo de programacion C y, C++ y Java. Tiene que detener el analisis cuando se detecte que los parentesis o llaves están desbalanceados \n",
        "# Idealmente no obligatorio encapsular esta lógica en una clase (ADT) de la POO\n"
      ]
    },
    {
      "cell_type": "markdown",
      "metadata": {
        "id": "y5a36gUS7LM4"
      },
      "source": [
        "# Aplicacion de Pilas\n",
        "## Estrategia de diseño de algoritmos BACKTRACKING "
      ]
    },
    {
      "cell_type": "code",
      "metadata": {
        "id": "Nr0BKtfO7Von"
      },
      "source": [
        "    "
      ],
      "execution_count": null,
      "outputs": []
    }
  ]
}
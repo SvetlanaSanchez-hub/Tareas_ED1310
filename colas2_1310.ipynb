{
  "nbformat": 4,
  "nbformat_minor": 0,
  "metadata": {
    "colab": {
      "name": "colas2_1310.ipynb",
      "provenance": [],
      "authorship_tag": "ABX9TyOeqTmD51BPqmcLDAh0hsVa",
      "include_colab_link": true
    },
    "kernelspec": {
      "name": "python3",
      "display_name": "Python 3"
    },
    "language_info": {
      "name": "python"
    }
  },
  "cells": [
    {
      "cell_type": "markdown",
      "metadata": {
        "id": "view-in-github",
        "colab_type": "text"
      },
      "source": [
        "<a href=\"https://colab.research.google.com/github/SvetlanaSanchez-hub/Tareas_ED1310/blob/main/colas2_1310.ipynb\" target=\"_parent\"><img src=\"https://colab.research.google.com/assets/colab-badge.svg\" alt=\"Open In Colab\"/></a>"
      ]
    },
    {
      "cell_type": "code",
      "metadata": {
        "id": "SSYrLYboC3oz"
      },
      "source": [
        "class Queue:\n",
        "        def __init__(self):\n",
        "            self.data = []\n",
        "\n",
        "        def is_empty(self):\n",
        "            return len(self.data) == 0\n",
        "\n",
        "        def length(self):\n",
        "            return len(self.data)\n",
        "\n",
        "        def enqueue(self, value):\n",
        "            self.data.append(value)\n",
        "\n",
        "        def dequeue(self):\n",
        "            return self.data.pop(0)\n",
        "\n",
        "        def to_string(self):\n",
        "            for elem in self.data:\n",
        "                print(f\"| {elem} | <--\" , end=\"\")\n",
        "            print(\"\")"
      ],
      "execution_count": 1,
      "outputs": []
    },
    {
      "cell_type": "code",
      "metadata": {
        "colab": {
          "base_uri": "https://localhost:8080/"
        },
        "id": "2Imypq9VDIx3",
        "outputId": "4e1dc080-b891-45b5-d4c2-5dad3307304e"
      },
      "source": [
        "    cola = Queue()\n",
        "    print(\"Está vacío?\", cola.is_empty())\n",
        "    print(\"Número de elementos = \" , cola.length())\n",
        "    cola.enqueue(10)\n",
        "    cola.enqueue(20)\n",
        "    cola.enqueue(30)\n",
        "    print(\"Está vacío?\", cola.is_empty())\n",
        "    print(\"Número de elementos = \" , cola.length())\n",
        "    cola.enqueue(40)\n",
        "    cola.enqueue(50)\n",
        "    cola.enqueue(60)\n",
        "    cola.to_string()\n",
        "    siguiente = cola.dequeue()\n",
        "    print(\"Atendiendo a: \" , siguiente)\n",
        "    cola.to_string()\n"
      ],
      "execution_count": 2,
      "outputs": [
        {
          "output_type": "stream",
          "name": "stdout",
          "text": [
            "Está vacío? True\n",
            "Número de elementos =  0\n",
            "Está vacío? False\n",
            "Número de elementos =  3\n",
            "| 10 | <--| 20 | <--| 30 | <--| 40 | <--| 50 | <--| 60 | <--\n",
            "Atendiendo a:  10\n",
            "| 20 | <--| 30 | <--| 40 | <--| 50 | <--| 60 | <--\n"
          ]
        }
      ]
    },
    {
      "cell_type": "markdown",
      "metadata": {
        "id": "9BfsC-TzDOGz"
      },
      "source": [
        "# Variantes del ADT Cola\n",
        "1. Circulares\n",
        "2. Prioridad\n",
        "    1. acotada\n",
        "    2. no acotada "
      ]
    },
    {
      "cell_type": "code",
      "metadata": {
        "id": "gqsfX8yxDqTk"
      },
      "source": [
        "    # Implementación de la cola de prioridad acotada\n",
        "\n",
        "    class BoundedPriorityQueue:\n",
        "        def __init__(self, niveles):\n",
        "            self.__data = [ Queue() for x in range(niveles) ]\n",
        "            #self.__data = Array(niveles)\n",
        "            #self.__ data.clear( Queue() )\n",
        "            self.__size = 0 #el numero de elementos\n",
        "\n",
        "        def is_empty(self):\n",
        "            return self.__size == 0\n",
        "\n",
        "        def length(self):\n",
        "            return self.__size\n",
        "\n",
        "        def enqueue(self, prioridad, elem):\n",
        "            if prioridad < len( self.__data ) \\\n",
        "                and prioridad >= 0:\n",
        "                self.__data[prioridad].enqueue(elem)\n",
        "                self.__size += 1\n",
        "\n",
        "        def dequeue(self):\n",
        "            nivel = 0\n",
        "            while self.__data[nivel].is_empty() \\\n",
        "                    and nivel < self.length():\n",
        "                nivel += 1\n",
        "            \n",
        "            if nivel >= self.length():\n",
        "                print(\"La cola está vacía\")\n",
        "            else:\n",
        "                return self.__data[nivel].dequeue()\n",
        "\n",
        "        def to_string(self):\n",
        "            prioridad = 0 \n",
        "            for cola in self.__data:\n",
        "                print(f\"Prioridad {prioridad} -> \", end= \"\")\n",
        "               \n",
        "                cola.to_string()\n",
        "                prioridad += 1 \n",
        "\n",
        "\n",
        "\n",
        "        "
      ],
      "execution_count": 19,
      "outputs": []
    },
    {
      "cell_type": "code",
      "metadata": {
        "colab": {
          "base_uri": "https://localhost:8080/"
        },
        "id": "xGu1FkgTMn3_",
        "outputId": "3d93649d-8688-4340-da3a-3ff1871b671e"
      },
      "source": [
        "    # prueba de la cola con prioridad\n",
        "    salvavidas = BoundedPriorityQueue( 7 )\n",
        "    salvavidas.enqueue(4, \"Maestre\")\n",
        "    salvavidas.enqueue(1, \"Niños\")\n",
        "    salvavidas.enqueue(4, \"Mecanico\")\n",
        "\n",
        "    salvavidas.enqueue(3, \"Mujeres\")\n",
        "    salvavidas.enqueue(2, \"Tercera edad\")\n",
        "    salvavidas.enqueue(1, \"Niñas\")\n",
        "    salvavidas.enqueue(3, \"Hombres\")\n",
        "    salvavidas.enqueue(4, \"Vigia\")\n",
        "    salvavidas.enqueue(5, \"Capitan\")\n",
        "    salvavidas.enqueue(4, \"Timonel\")\n",
        "    salvavidas.to_string()\n",
        "    sig = salvavidas.dequeue()\n",
        "    print(f\"Subiendo { sig } al bote salvavidas!!\")\n",
        "    salvavidas.to_string()\n"
      ],
      "execution_count": 20,
      "outputs": [
        {
          "output_type": "stream",
          "name": "stdout",
          "text": [
            "Prioridad 0 -> \n",
            "Prioridad 1 -> | Niños | <--| Niñas | <--\n",
            "Prioridad 2 -> | Tercera edad | <--\n",
            "Prioridad 3 -> | Mujeres | <--| Hombres | <--\n",
            "Prioridad 4 -> | Maestre | <--| Mecanico | <--| Vigia | <--| Timonel | <--\n",
            "Prioridad 5 -> | Capitan | <--\n",
            "Prioridad 6 -> \n",
            "Subiendo Niños al bote salvavidas!!\n",
            "Prioridad 0 -> \n",
            "Prioridad 1 -> | Niñas | <--\n",
            "Prioridad 2 -> | Tercera edad | <--\n",
            "Prioridad 3 -> | Mujeres | <--| Hombres | <--\n",
            "Prioridad 4 -> | Maestre | <--| Mecanico | <--| Vigia | <--| Timonel | <--\n",
            "Prioridad 5 -> | Capitan | <--\n",
            "Prioridad 6 -> \n"
          ]
        }
      ]
    },
    {
      "cell_type": "code",
      "metadata": {
        "id": "K3emBupnR2Sf"
      },
      "source": [
        "    # Implementacion de las colas de prioridad sin acotamientos \n",
        "\n",
        "    class PriorityQueue:\n",
        "        def __init__(self):\n",
        "            self.__data = []\n",
        "            self.__size = 0\n",
        "\n",
        "        def is_empty(self):\n",
        "            return self.__size == 0\n",
        "\n",
        "        def length(self):\n",
        "            return self.__size\n",
        "\n",
        "        def enqueue(self, prioridad, elem):\n",
        "            existe = False\n",
        "            indice =  0\n",
        "            for index in range(len(self.__data)):\n",
        "                if self.__data [index][\"prioridad\"] == prioridad:\n",
        "                    existe = True\n",
        "                    indice = index\n",
        "\n",
        "\n",
        "            if existe:\n",
        "                self.__data[indice][\"cola\"].enqueue(elem)\n",
        "            else:\n",
        "                self.__data.append( {\"prioridad\":prioridad, \"cola\": Queue() } )\n",
        "                self.__data[-1][\"cola\"].enqueue(elem)\n",
        "\n",
        "        def to_string(self):\n",
        "            for cola in self.__data:\n",
        "                cola[\"cola\"].to_string()       \n",
        "\n"
      ],
      "execution_count": 23,
      "outputs": []
    },
    {
      "cell_type": "code",
      "metadata": {
        "colab": {
          "base_uri": "https://localhost:8080/"
        },
        "id": "ZmBsIcfKWcvJ",
        "outputId": "1244ab69-f10d-4a46-caa2-824573158c33"
      },
      "source": [
        "    cp = PriorityQueue()\n",
        "    cp.enqueue(1, \"niñas\")\n",
        "    cp.enqueue(2, \"niños\")\n",
        "    cp.enqueue(2, \"profesores\")\n",
        "    cp.to_string()"
      ],
      "execution_count": 24,
      "outputs": [
        {
          "output_type": "stream",
          "name": "stdout",
          "text": [
            "| niñas | <--\n",
            "| niños | <--| profesores | <--\n"
          ]
        }
      ]
    }
  ]
}
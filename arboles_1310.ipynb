{
  "nbformat": 4,
  "nbformat_minor": 0,
  "metadata": {
    "colab": {
      "name": "arboles_1310.ipynb",
      "provenance": [],
      "authorship_tag": "ABX9TyPs4IPjmotlXSJgBFHVgruB",
      "include_colab_link": true
    },
    "kernelspec": {
      "name": "python3",
      "display_name": "Python 3"
    },
    "language_info": {
      "name": "python"
    }
  },
  "cells": [
    {
      "cell_type": "markdown",
      "metadata": {
        "id": "view-in-github",
        "colab_type": "text"
      },
      "source": [
        "<a href=\"https://colab.research.google.com/github/SvetlanaSanchez-hub/Tareas_ED1310/blob/main/arboles_1310.ipynb\" target=\"_parent\"><img src=\"https://colab.research.google.com/assets/colab-badge.svg\" alt=\"Open In Colab\"/></a>"
      ]
    },
    {
      "cell_type": "code",
      "metadata": {
        "id": "1ucTinoFCTw_"
      },
      "source": [
        "    class NodoBinario:\n",
        "        def __init__(self, value, left= None, right= None):\n",
        "            self.data = value\n",
        "            self.left = left\n",
        "            self.right = right \n",
        "\n",
        "    class NodoTernario:\n",
        "        def __init__(self, value, left= None, center= None, right= None):\n",
        "            self.data = value\n",
        "            self.left = left\n",
        "            self.center = center\n",
        "            self.right = right\n"
      ],
      "execution_count": 1,
      "outputs": []
    },
    {
      "cell_type": "code",
      "metadata": {
        "colab": {
          "base_uri": "https://localhost:8080/"
        },
        "id": "w65EXDL8D5Ob",
        "outputId": "6964aaba-66b4-414e-a1a9-f33c38a2aec9"
      },
      "source": [
        "    arbol1= NodoBinario(\"R\", NodoBinario(\"C\"), NodoBinario(\"H\") )\n",
        "    print(arbol1.right.data)\n",
        "\n",
        "    arbol2 = NodoTernario(4, NodoTernario(3,\\\n",
        "            NodoTernario(5, left=NodoTernario(2)),\\\n",
        "            NodoTernario(5), NodoTernario(2)), None, NodoTernario(5))\n",
        "    print(arbol2.left.right.data)\n",
        "    print(arbol2.data)\n",
        "    print(arbol2.left.center.data)\n",
        "    print(arbol2.right.left)\n",
        "    print(arbol2.left.left.left.data) # hijo más a la izq\n",
        "    print(\"------- Imprimir el mismos sin usar la palabra left-----\")\n",
        "    ejemplo = arbol2.left.left.left.data\n",
        "    print(ejemplo)\n",
        "    print(\"-----Otra forma------\")\n",
        "    aux = arbol2\n",
        "    while(aux.left != None):\n",
        "        aux = aux.left\n",
        "    print(aux.data)\n",
        "    "
      ],
      "execution_count": 2,
      "outputs": [
        {
          "output_type": "stream",
          "name": "stdout",
          "text": [
            "H\n",
            "2\n",
            "4\n",
            "5\n",
            "None\n",
            "2\n",
            "------- Imprimir el mismos sin usar la palabra left-----\n",
            "2\n",
            "-----Otra forma------\n",
            "2\n"
          ]
        }
      ]
    },
    {
      "cell_type": "code",
      "metadata": {
        "colab": {
          "base_uri": "https://localhost:8080/"
        },
        "id": "NpTgzDepHH92",
        "outputId": "f63beb26-03a3-47b0-adb5-b24d586cb673"
      },
      "source": [
        "    root = NodoBinario(\"Santi\",None,NodoBinario(\"Jesus\",NodoBinario(\"Pedro\",None,NodoBinario(\"Pedro jr\"))))\n",
        "    print(root.right.left.right.data)\n",
        "    \n"
      ],
      "execution_count": 3,
      "outputs": [
        {
          "output_type": "stream",
          "name": "stdout",
          "text": [
            "Pedro jr\n"
          ]
        }
      ]
    },
    {
      "cell_type": "code",
      "metadata": {
        "id": "ndxqOGRLJxEG"
      },
      "source": [
        "    class BinaryNode:\n",
        "        def __init__(self, value, left= None, right= None):\n",
        "            self.data = value\n",
        "            self.left = left\n",
        "            self.right = right \n",
        "\n",
        "    class BinarySearchTree: \n",
        "        def __init__(self):\n",
        "            self.root = None\n",
        "\n",
        "        def insert(self, value):\n",
        "            if self.root == None: \n",
        "                self.root = BinaryNode( value )\n",
        "            else:\n",
        "                self.__insert_nodo( self.root , value ) \n",
        "\n",
        "        def __insert_nodo( self , nodo , value ):\n",
        "            if nodo.data == value:\n",
        "                pass\n",
        "            elif value < nodo.data: #izquierda\n",
        "                if nodo.left == None:\n",
        "                    nodo.left = BinaryNode( value )\n",
        "                else:\n",
        "                    self.__insert_nodo( nodo.left , value )\n",
        "            else: # derecha\n",
        "                if nodo.right == None:\n",
        "                    nodo.right = BinaryNode( value )\n",
        "                else:\n",
        "                    self.__insert_nodo( nodo.right , value )\n",
        "        def transversal( self , formato = \"posorden\"):\n",
        "            if formato == \"posorden\":\n",
        "                self.recorrido_pos( self.root )\n",
        "            elif formato == \"preorden\":\n",
        "                self.recorrido_pre( self.root )\n",
        "            else: # inorden\n",
        "                self.recorrido_in( self.root )\n",
        "            print(\"\")\n",
        "\n",
        "        def recorrido_pos( self , nodo ):\n",
        "            if nodo != None:\n",
        "                self.recorrido_pos( nodo.left )\n",
        "                self.recorrido_pos( nodo.right )\n",
        "                print( str( nodo.data ) , end=\" , \" )\n",
        "\n",
        "        def recorrido_pre( self , nodo ):\n",
        "            if nodo != None:\n",
        "                print( str( nodo.data ) , end=\" , \" )\n",
        "                self.recorrido_pre( nodo.left )\n",
        "                self.recorrido_pre( nodo.right )\n",
        "        def recorrido_in( self , nodo ):\n",
        "            if nodo != None:\n",
        "                self.recorrido_in( nodo.left )\n",
        "                print( str( nodo.data ) , end=\" , \" )\n",
        "                self.recorrido_in( nodo.right )\n",
        "\n",
        "\n",
        "        def search( self , value ):\n",
        "            if self.root == None:\n",
        "                print(\"El arbol se encuentra vacio ... \")\n",
        "                return None\n",
        "            else:\n",
        "                self.__search( self.root , value )\n",
        "\n",
        "        def __search( self , nodo , value ):\n",
        "            if nodo.data == None:\n",
        "                print(\"El valor proporcionado no existe en el arbol \")\n",
        "                return None\n",
        "            elif nodo.data == value:\n",
        "                print(\"Encontrado ...\")\n",
        "                return nodo \n",
        "            elif value < nodo.data:\n",
        "                return self.__search( nodo.left , value )\n",
        "            else:\n",
        "                return self.__search( nodo.right , value )\n",
        "\n",
        "\n"
      ],
      "execution_count": 19,
      "outputs": []
    },
    {
      "cell_type": "code",
      "metadata": {
        "colab": {
          "base_uri": "https://localhost:8080/"
        },
        "id": "uGSYYLEa_y97",
        "outputId": "1b35df04-0f02-49b7-e8ed-96bd986eb1ae"
      },
      "source": [
        " arb1 = BinarySearchTree()\n",
        " arb1.insert(60)\n",
        " arb1.insert(30)\n",
        " arb1.insert(15)\n",
        " arb1.insert(40)\n",
        " arb1.transversal(\"pos-orden\")\n",
        "arb1.transversal(\"pre-orden\")\n",
        "arb1.transversal(\"in-orden\")\n"
      ],
      "execution_count": 20,
      "outputs": [
        {
          "output_type": "stream",
          "name": "stdout",
          "text": [
            "15 , 30 , 40 , 60 , \n",
            "15 , 30 , 40 , 60 , \n",
            "15 , 30 , 40 , 60 , \n"
          ]
        }
      ]
    }
  ]
}
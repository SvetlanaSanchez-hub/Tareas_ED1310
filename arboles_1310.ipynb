{
  "nbformat": 4,
  "nbformat_minor": 0,
  "metadata": {
    "colab": {
      "name": "arboles_1310.ipynb",
      "provenance": [],
      "authorship_tag": "ABX9TyPjqPtUbrk33abPN8garBAI",
      "include_colab_link": true
    },
    "kernelspec": {
      "name": "python3",
      "display_name": "Python 3"
    },
    "language_info": {
      "name": "python"
    }
  },
  "cells": [
    {
      "cell_type": "markdown",
      "metadata": {
        "id": "view-in-github",
        "colab_type": "text"
      },
      "source": [
        "<a href=\"https://colab.research.google.com/github/SvetlanaSanchez-hub/Tareas_ED1310/blob/main/arboles_1310.ipynb\" target=\"_parent\"><img src=\"https://colab.research.google.com/assets/colab-badge.svg\" alt=\"Open In Colab\"/></a>"
      ]
    },
    {
      "cell_type": "code",
      "metadata": {
        "id": "1ucTinoFCTw_"
      },
      "source": [
        "    class NodoBinario:\n",
        "        def __init__(self, value, left= None, right= None):\n",
        "            self.data = value\n",
        "            self.left = left\n",
        "            self.right = right \n",
        "\n",
        "    class NodoTernario:\n",
        "        def __init__(self, value, left= None, center= None, right= None):\n",
        "            self.data = value\n",
        "            self.left = left\n",
        "            self.center = center\n",
        "            self.right = right\n"
      ],
      "execution_count": 18,
      "outputs": []
    },
    {
      "cell_type": "code",
      "metadata": {
        "colab": {
          "base_uri": "https://localhost:8080/"
        },
        "id": "w65EXDL8D5Ob",
        "outputId": "878dc91b-c444-4aee-94c9-3273395e172f"
      },
      "source": [
        "    arbol1= NodoBinario(\"R\", NodoBinario(\"C\"), NodoBinario(\"H\") )\n",
        "    print(arbol1.right.data)\n",
        "\n",
        "    arbol2 = NodoTernario(4, NodoTernario(3,\\\n",
        "            NodoTernario(5, left=NodoTernario(2)),\\\n",
        "            NodoTernario(5), NodoTernario(2)), None, NodoTernario(5))\n",
        "    print(arbol2.left.right.data)\n",
        "    print(arbol2.data)\n",
        "    print(arbol2.left.center.data)\n",
        "    print(arbol2.right.left)\n",
        "    print(arbol2.left.left.left.data) # hijo más a la izq\n",
        "    print(\"------- Imprimir el mismos sin usar la palabra left-----\")\n",
        "    ejemplo = arbol2.left.left.left.data\n",
        "    print(ejemplo)\n",
        "    print(\"-----Otra forma------\")\n",
        "    aux = arbol2\n",
        "    while(aux.left != None):\n",
        "        aux = aux.left\n",
        "    print(aux.data)\n",
        "    "
      ],
      "execution_count": 19,
      "outputs": [
        {
          "output_type": "stream",
          "name": "stdout",
          "text": [
            "H\n",
            "2\n",
            "4\n",
            "5\n",
            "None\n",
            "2\n",
            "------- Imprimir el mismos sin usar la palabra left-----\n",
            "2\n",
            "-----Otra forma------\n",
            "2\n"
          ]
        }
      ]
    },
    {
      "cell_type": "code",
      "metadata": {
        "colab": {
          "base_uri": "https://localhost:8080/"
        },
        "id": "NpTgzDepHH92",
        "outputId": "83e588d0-5853-4172-9feb-94364f4ce9a5"
      },
      "source": [
        "    root = NodoBinario(\"Santi\",None,NodoBinario(\"Jesus\",NodoBinario(\"Pedro\",None,NodoBinario(\"Pedro jr\"))))\n",
        "    print(root.right.left.right.data)\n",
        "    \n"
      ],
      "execution_count": 20,
      "outputs": [
        {
          "output_type": "stream",
          "name": "stdout",
          "text": [
            "Pedro jr\n"
          ]
        }
      ]
    },
    {
      "cell_type": "code",
      "metadata": {
        "id": "ndxqOGRLJxEG"
      },
      "source": [
        ""
      ],
      "execution_count": 20,
      "outputs": []
    }
  ]
}
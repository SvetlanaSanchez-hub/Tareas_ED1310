{
  "nbformat": 4,
  "nbformat_minor": 0,
  "metadata": {
    "colab": {
      "name": "tarea_Pilas.ipynb",
      "provenance": [],
      "authorship_tag": "ABX9TyPOs/YSmqzDiucgvx6YMycH",
      "include_colab_link": true
    },
    "kernelspec": {
      "name": "python3",
      "display_name": "Python 3"
    },
    "language_info": {
      "name": "python"
    }
  },
  "cells": [
    {
      "cell_type": "markdown",
      "metadata": {
        "id": "view-in-github",
        "colab_type": "text"
      },
      "source": [
        "<a href=\"https://colab.research.google.com/github/SvetlanaSanchez-hub/Tareas_ED1310/blob/main/tarea_Pilas.ipynb\" target=\"_parent\"><img src=\"https://colab.research.google.com/assets/colab-badge.svg\" alt=\"Open In Colab\"/></a>"
      ]
    },
    {
      "cell_type": "code",
      "metadata": {
        "id": "-mSrNwm2MGP_"
      },
      "source": [
        "    class StackADT:\n",
        "        def __init__(self):\n",
        "            self.__data = list()\n",
        "\n",
        "\n",
        "        #regresa true si la pila está vacía\n",
        "        def is_empty(self):\n",
        "            return len(self.__data) == 0\n",
        "\n",
        "        def get_length(self):\n",
        "            return len(self.__data)\n",
        "\n",
        "        def pop (self):\n",
        "            if self.is_empty():\n",
        "                print(\"Pila vacía, nada que sacar\")\n",
        "            else:\n",
        "                return self.__data.pop()\n",
        "\n",
        "        def peek(self):\n",
        "            if self.is_empty():\n",
        "                print(\"Pila vacía, nada que sacar\")\n",
        "            else:\n",
        "                return self.__data[-1]\n",
        "\n",
        "        def push(self, value):\n",
        "            self.__data.append(value)\n",
        "\n",
        "        def to_string(self):\n",
        "            for item in self.__data[::-1]:\n",
        "                print(f\" | {item} | \")\n"
      ],
      "execution_count": 29,
      "outputs": []
    },
    {
      "cell_type": "code",
      "metadata": {
        "colab": {
          "base_uri": "https://localhost:8080/"
        },
        "id": "zIYUIfvXQ15f",
        "outputId": "042fad80-5706-4af5-d90f-b12a7a1c780a"
      },
      "source": [
        "pila = StackADT()\n",
        "print(\"Esta vacia ? = \", pila.is_empty() )\n",
        "print(\"No. elementos: \" , pila.get_length() )\n",
        "pila.push(10)\n",
        "\n",
        "print(\"Esta vacia ? = \", pila.is_empty() )\n",
        "print(\"No. elementos: \" , pila.get_length() )\n",
        "\n",
        "pila.push(20)\n",
        "pila.push(30)\n",
        "pila.push(40)\n",
        "\n",
        "pila.to_string()\n",
        "print(pila.pop())\n",
        "pila.to_string()\n",
        "print(pila.peek())\n",
        "pila.to_string()"
      ],
      "execution_count": 28,
      "outputs": [
        {
          "output_type": "stream",
          "name": "stdout",
          "text": [
            "Esta vacia ? =  True\n",
            "No. elementos:  0\n",
            "Esta vacia ? =  False\n",
            "No. elementos:  1\n",
            " | 40 | \n",
            " | 30 | \n",
            " | 20 | \n",
            " | 10 | \n",
            "40\n",
            " | 30 | \n",
            " | 20 | \n",
            " | 10 | \n",
            "30\n",
            " | 30 | \n",
            " | 20 | \n",
            " | 10 | \n"
          ]
        }
      ]
    },
    {
      "cell_type": "markdown",
      "metadata": {
        "id": "5F2fbrqAPHZM"
      },
      "source": [
        "# 1.- Hacer un programa que implemente el algoritmo de pila vacía para verificar balanceo de llaves ( '{' y '}') y balanceo de parénteisis ( '(' y ')') para codigo de programacion C y, C++ y Java. Tiene que detener el analisis cuando se detecte que los parentesis o llaves están desbalanceados \n",
        "# Idealmente no obligatorio encapsular esta lógica en una clase (ADT) de la POO"
      ]
    },
    {
      "cell_type": "code",
      "metadata": {
        "id": "7G8x-Fs2PJIG"
      },
      "source": [
        "    class verificacionBalanceo:\n",
        "        def __init__ (self, ruta_archivo):\n",
        "            self.read_data(ruta_archivo)\n",
        "\n",
        "        def read_data(self, entrada):\n",
        "            self.entrada = open(nombre, 'rt')\n",
        "            self.codigo = self.entrada.read()\n",
        "\n",
        "        def codigo_verif( self ):\n",
        "        \n",
        "            self.pilaControl = StackADT()\n",
        "            self.pilaControl.push(\"#\") #caracter de pila vacia\n",
        "\n",
        "            for letra in self.codigo:\n",
        "                if self.pilaControl.get_length() != 0:\n",
        "\n",
        "                    if letra == '{': \n",
        "                        self.pilaControl.push('{')\n",
        "                    elif letra == '(': \n",
        "                        self.pilaControl.push('(')\n",
        "                    elif letra == '}':\n",
        "                        self.pilaControl.pop()\n",
        "                    elif letra == ')':\n",
        "                        self.pilaControl.pop()\n",
        "                    else:\n",
        "                        pass \n",
        "                else: \n",
        "                    break\n",
        "\n",
        "            if self.pilaControl.peek() == '#':\n",
        "                print(\"El codigo ingresado está correctamente balanceado\")\n",
        "            else:\n",
        "                print(\"El codigo ingresado no está balanceado en () o {}\")\n",
        "                        \n",
        "                    \n",
        "\n",
        "    "
      ],
      "execution_count": 66,
      "outputs": []
    },
    {
      "cell_type": "code",
      "metadata": {
        "colab": {
          "base_uri": "https://localhost:8080/"
        },
        "id": "h7C3EYvjQp8T",
        "outputId": "5f61ac78-ecda-4d82-d791-046694e7ab74"
      },
      "source": [
        "    nombre = input(\"Introduce el nombre del archivo para usar el programa:  \")\n",
        "    ejemplo = verificacionBalanceo(nombre)\n",
        "    ejemplo.codigo_verif()   \n"
      ],
      "execution_count": 68,
      "outputs": [
        {
          "output_type": "stream",
          "name": "stdout",
          "text": [
            "Introduce el nombre del archivo para usar el programa:  anio.txt\n",
            "El codigo ingresado está correctamente balanceado\n"
          ]
        }
      ]
    }
  ]
}
{
  "nbformat": 4,
  "nbformat_minor": 0,
  "metadata": {
    "colab": {
      "name": "ListasLigadasADT_1310.ipynb",
      "provenance": [],
      "authorship_tag": "ABX9TyPG8ExJPCEDWuJ6eqgGHULj",
      "include_colab_link": true
    },
    "kernelspec": {
      "name": "python3",
      "display_name": "Python 3"
    },
    "language_info": {
      "name": "python"
    }
  },
  "cells": [
    {
      "cell_type": "markdown",
      "metadata": {
        "id": "view-in-github",
        "colab_type": "text"
      },
      "source": [
        "<a href=\"https://colab.research.google.com/github/SvetlanaSanchez-hub/Tareas_ED1310/blob/main/ListasLigadasADT_1310.ipynb\" target=\"_parent\"><img src=\"https://colab.research.google.com/assets/colab-badge.svg\" alt=\"Open In Colab\"/></a>"
      ]
    },
    {
      "cell_type": "markdown",
      "metadata": {
        "id": "lIWZ_Ufl0j0O"
      },
      "source": [
        "# Ejercicios con la clase nodo\n",
        "- Crear un nodo\n",
        "    - imprimir el valor del nodo\n",
        "- Crear 2 nodos \n",
        "    - imprimir el valr del primero\n",
        "    - imprimir el valor del segundo\n",
        "    - transversal\n",
        "- Lo mismo pero con 4 nodos 10,20,30,40\n",
        "    - imprimir el valr del primero\n",
        "    - imprimir el valor del ultimo\n",
        "    - transversal\n",
        "    - insertar el nodo 25, despues del nodo 20 y antes del nodo 30\n",
        "## Todo esto antes de ir a la escritura formal del ADT Lista Ligada \n"
      ]
    },
    {
      "cell_type": "code",
      "metadata": {
        "id": "lUbfAq6x0b7V"
      },
      "source": [
        "    class Nodo:\n",
        "        def __init__( self, value, siguiente = None ):\n",
        "            self.data = value\n",
        "            self.next = siguiente\n"
      ],
      "execution_count": 1,
      "outputs": []
    },
    {
      "cell_type": "code",
      "metadata": {
        "colab": {
          "base_uri": "https://localhost:8080/"
        },
        "id": "9kYWEeM_14T_",
        "outputId": "8f9d927f-9111-4da5-c23e-c6f168dd7c5f"
      },
      "source": [
        "    head = Nodo(10) #creacion de nodo\n",
        "    print( head.data )\n"
      ],
      "execution_count": 2,
      "outputs": [
        {
          "output_type": "stream",
          "name": "stdout",
          "text": [
            "10\n"
          ]
        }
      ]
    },
    {
      "cell_type": "code",
      "metadata": {
        "colab": {
          "base_uri": "https://localhost:8080/"
        },
        "id": "mHa18w5h2eym",
        "outputId": "19c97fb5-7095-47af-9a19-2d12a037acb1"
      },
      "source": [
        "    head = Nodo(10)\n",
        "    head.next = Nodo(20)\n",
        "    print(f\"Primero={head.data}\")\n",
        "    print(f\"Segundo={head.next.data}\")\n",
        "\n",
        "    # lo mismo pero ahorrando codigo\n",
        "    head = Nodo( 10 , Nodo(20))\n",
        "    print(f\"Primero={head.data}\")\n",
        "    print(f\"Segundo={head.next.data}\")\n",
        "\n",
        "    # transversal\n",
        "    curr_node = head\n",
        "    while curr_node != None:\n",
        "        print(f\" {curr_node.data } |  --> \" , end=\"\")\n",
        "        curr_node = curr_node.next\n",
        "    print(\"\")\n",
        "\n",
        "    \n",
        "\n",
        "\n",
        "\n",
        "    \n",
        "\n"
      ],
      "execution_count": 3,
      "outputs": [
        {
          "output_type": "stream",
          "name": "stdout",
          "text": [
            "Primero=10\n",
            "Segundo=20\n",
            "Primero=10\n",
            "Segundo=20\n",
            " 10 |  -->  20 |  --> \n"
          ]
        }
      ]
    },
    {
      "cell_type": "code",
      "metadata": {
        "colab": {
          "base_uri": "https://localhost:8080/"
        },
        "id": "9AuYCRfP67va",
        "outputId": "cd289bc0-0470-4aa0-c288-5e7fb2b78883"
      },
      "source": [
        "    head = Nodo (10, Nodo(20, Nodo(30, Nodo(40))))\n",
        "  # transversal\n",
        "    curr_node = head\n",
        "    while curr_node != None:\n",
        "        print(f\" {curr_node.data } |  --> \" , end=\"\")\n",
        "        curr_node = curr_node.next\n",
        "    print(\"\")\n",
        "\n",
        "    # imprimir el primero\n",
        "    print(head.data)\n",
        "    # imprimir el último\n",
        "    curr_node = head \n",
        "    while curr_node.next != None:\n",
        "        curr_node = curr_node.next\n",
        "    print(curr_node.data)\n",
        "\n",
        "\n",
        "    # crear nodo (25) despues del nodo 20 y antes del nodo 30\n",
        "    curr_node = head\n",
        "    while curr_node.data != 20:\n",
        "        curr_node = curr_node.next\n",
        "    print(curr_node.data)\n",
        "\n",
        "    # crear el nodo 25 \n",
        "    curr_node.next = Nodo(25, curr_node.next)\n",
        "    print(\"Despues de insertar 25\")\n",
        "\n",
        "    # transversal\n",
        "    curr_node = head\n",
        "    while curr_node != None:\n",
        "        print(f\" {curr_node.data } |  --> \" , end=\"\")\n",
        "        curr_node = curr_node.next\n",
        "    print(\"\")\n",
        "\n",
        "\n",
        "\n",
        "    \n"
      ],
      "execution_count": 5,
      "outputs": [
        {
          "output_type": "stream",
          "name": "stdout",
          "text": [
            " 10 |  -->  20 |  -->  30 |  -->  40 |  --> \n",
            "10\n",
            "40\n",
            "20\n",
            "Despues de insertar 25\n",
            " 10 |  -->  20 |  -->  25 |  -->  30 |  -->  40 |  --> \n"
          ]
        }
      ]
    },
    {
      "cell_type": "markdown",
      "metadata": {
        "id": "8TGSJJzOc6ls"
      },
      "source": [
        ""
      ]
    },
    {
      "cell_type": "code",
      "metadata": {
        "id": "slG7tTcac7I1"
      },
      "source": [
        "    class LinkedList:\n",
        "        def __init__(self):\n",
        "            self.head = None\n",
        "\n",
        "        def is_empty(self): #true o false\n",
        "            return self.head == None \n",
        "\n",
        "        def get_tail(self):\n",
        "            if self.is_empty():\n",
        "                return None\n",
        "            else:\n",
        "                curr_node = self.head\n",
        "                while curr_node.next != None:\n",
        "                    curr_node = curr_node.next \n",
        "            return curr_node\n",
        "\n",
        "        def append(self, value):\n",
        "            if self.head == None:\n",
        "                self.head = Nodo(value)\n",
        "            else:\n",
        "                curr_node = self.head\n",
        "                while curr_node.next != None:\n",
        "                    curr_node = curr_node.next\n",
        "                curr_node.next = Nodo(value)\n",
        "\n",
        "        def transversal(self):\n",
        "            curr_node = self.head\n",
        "            while curr_node != None:\n",
        "                print(f\" | { curr_node.data } | -->\" , end=\"\")\n",
        "                curr_node = curr_node.next\n",
        "            print(\"\")\n",
        "\n",
        "    \n",
        "        def remove(self, value):\n",
        "            if self.head == None:\n",
        "                print(\"Lista vacía, no se puede remover nada\")\n",
        "            else:\n",
        "                curr_node = self.head \n",
        "                aux = None \n",
        "                while curr_node.data != value: # revisar cuando el valor no exista\n",
        "                    aux = curr_node \n",
        "                    curr_node = curr_node.next \n",
        "\n",
        "                if curr_node != None:\n",
        "                    aux.next = curr_node.next\n",
        "                    curr_node = None  \n",
        "\n",
        "        def preppend(self, value):\n",
        "            if self.head == None:\n",
        "                print(\"Está vacio, no se puede preppend\")\n",
        "            else:\n",
        "                aux = self.head\n",
        "                self.head = Nodo(value, aux)\n",
        "\n",
        "\n"
      ],
      "execution_count": 28,
      "outputs": []
    },
    {
      "cell_type": "code",
      "metadata": {
        "colab": {
          "base_uri": "https://localhost:8080/"
        },
        "id": "qn8oQ-RNfhtY",
        "outputId": "209e83da-6894-46d7-da61-90c5dca2cec8"
      },
      "source": [
        "    lista = LinkedList()\n",
        "    if lista.is_empty():\n",
        "        print(\"La lista está vacía\")\n",
        "    else:\n",
        "        print(\"La lista no está vacía\")\n",
        "\n",
        "    lista.append(10)\n",
        "    lista.append(20)\n",
        "    lista.append(30) \n",
        "    lista.append(40)\n",
        "    lista.append(50)  \n",
        "\n",
        "    nodo = lista.get_tail()\n",
        "    if nodo != None:\n",
        "        print(nodo.data)\n",
        "    else: \n",
        "        print(\"Lista está vacía\")\n",
        "\n",
        "    lista.transversal()\n",
        "    lista.remove(30)\n",
        "    lista.transversal()\n",
        "    lista.preppend(5)\n",
        "    print(\"Despues del preppend\")\n",
        "    lista.transversal()\n",
        "   "
      ],
      "execution_count": 29,
      "outputs": [
        {
          "output_type": "stream",
          "name": "stdout",
          "text": [
            "La lista está vacía\n",
            "50\n",
            " | 10 | --> | 20 | --> | 30 | --> | 40 | --> | 50 | -->\n",
            " | 10 | --> | 20 | --> | 40 | --> | 50 | -->\n",
            "Despues del preppend\n",
            " | 5 | --> | 10 | --> | 20 | --> | 40 | --> | 50 | -->\n"
          ]
        }
      ]
    }
  ]
}
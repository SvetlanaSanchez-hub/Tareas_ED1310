{
  "nbformat": 4,
  "nbformat_minor": 0,
  "metadata": {
    "colab": {
      "name": "ListasLigadasADT_1310.ipynb",
      "provenance": [],
      "collapsed_sections": [],
      "authorship_tag": "ABX9TyNdg/UdzSJxS5LVwWL4nWG1",
      "include_colab_link": true
    },
    "kernelspec": {
      "name": "python3",
      "display_name": "Python 3"
    },
    "language_info": {
      "name": "python"
    }
  },
  "cells": [
    {
      "cell_type": "markdown",
      "metadata": {
        "id": "view-in-github",
        "colab_type": "text"
      },
      "source": [
        "<a href=\"https://colab.research.google.com/github/SvetlanaSanchez-hub/Tareas_ED1310/blob/main/ListasLigadasADT_1310.ipynb\" target=\"_parent\"><img src=\"https://colab.research.google.com/assets/colab-badge.svg\" alt=\"Open In Colab\"/></a>"
      ]
    },
    {
      "cell_type": "markdown",
      "metadata": {
        "id": "lIWZ_Ufl0j0O"
      },
      "source": [
        "# Ejercicios con la clase nodo\n",
        "- Crear un nodo\n",
        "    - imprimir el valor del nodo\n",
        "- Crear 2 nodos \n",
        "    - imprimir el valr del primero\n",
        "    - imprimir el valor del segundo\n",
        "    - transversal\n",
        "- Lo mismo pero con 4 nodos 10,20,30,40\n",
        "    - imprimir el valr del primero\n",
        "    - imprimir el valor del ultimo\n",
        "    - transversal\n",
        "    - insertar el nodo 25, despues del nodo 20 y antes del nodo 30\n",
        "## Todo esto antes de ir a la escritura formal del ADT Lista Ligada \n"
      ]
    },
    {
      "cell_type": "code",
      "metadata": {
        "id": "lUbfAq6x0b7V"
      },
      "source": [
        "    class Nodo:\n",
        "        def __init__( self, value, siguiente = None ):\n",
        "            self.data = value\n",
        "            self.next = siguiente\n"
      ],
      "execution_count": 1,
      "outputs": []
    },
    {
      "cell_type": "code",
      "metadata": {
        "colab": {
          "base_uri": "https://localhost:8080/"
        },
        "id": "9kYWEeM_14T_",
        "outputId": "86a1f9c2-7795-44db-f369-203994af93d1"
      },
      "source": [
        "    head = Nodo(10) #creacion de nodo\n",
        "    print( head.data )\n"
      ],
      "execution_count": 2,
      "outputs": [
        {
          "output_type": "stream",
          "name": "stdout",
          "text": [
            "10\n"
          ]
        }
      ]
    },
    {
      "cell_type": "code",
      "metadata": {
        "colab": {
          "base_uri": "https://localhost:8080/"
        },
        "id": "mHa18w5h2eym",
        "outputId": "5c852155-38e5-4ccc-a1fd-e3afa61d86f2"
      },
      "source": [
        "    head = Nodo(10)\n",
        "    head.next = Nodo(20)\n",
        "    print(f\"Primero={head.data}\")\n",
        "    print(f\"Segundo={head.next.data}\")\n",
        "\n",
        "    # lo mismo pero ahorrando codigo\n",
        "    head = Nodo( 10 , Nodo(20))\n",
        "    print(f\"Primero={head.data}\")\n",
        "    print(f\"Segundo={head.next.data}\")\n",
        "\n",
        "    # transversal\n",
        "    curr_node = head\n",
        "    while curr_node != None:\n",
        "        print(f\" {curr_node.data } |  --> \" , end=\"\")\n",
        "        curr_node = curr_node.next\n",
        "    print(\"\")\n",
        "\n",
        "    \n",
        "\n",
        "\n",
        "\n",
        "    \n",
        "\n"
      ],
      "execution_count": 3,
      "outputs": [
        {
          "output_type": "stream",
          "name": "stdout",
          "text": [
            "Primero=10\n",
            "Segundo=20\n",
            "Primero=10\n",
            "Segundo=20\n",
            " 10 |  -->  20 |  --> \n"
          ]
        }
      ]
    },
    {
      "cell_type": "code",
      "metadata": {
        "colab": {
          "base_uri": "https://localhost:8080/"
        },
        "id": "9AuYCRfP67va",
        "outputId": "9616adcd-989a-49a2-8b7e-48f35e051378"
      },
      "source": [
        "    head = Nodo (10, Nodo(20, Nodo(30, Nodo(40))))\n",
        "  # transversal\n",
        "    curr_node = head\n",
        "    while curr_node != None:\n",
        "        print(f\" {curr_node.data } |  --> \" , end=\"\")\n",
        "        curr_node = curr_node.next\n",
        "    print(\"\")\n",
        "\n",
        "    # imprimir el primero\n",
        "    print(head.data)\n",
        "    # imprimir el último\n",
        "    curr_node = head \n",
        "    while curr_node.next != None:\n",
        "        curr_node = curr_node.next\n",
        "    print(curr_node.data)\n",
        "\n",
        "\n",
        "    # crear nodo (25) despues del nodo 20 y antes del nodo 30\n",
        "    curr_node = head\n",
        "    while curr_node.data != 20:\n",
        "        curr_node = curr_node.next\n",
        "    print(curr_node.data)\n",
        "\n",
        "    # crear el nodo 25 \n",
        "    curr_node.next = Nodo(25, curr_node.next)\n",
        "    print(\"Despues de insertar 25\")\n",
        "\n",
        "    # transversal\n",
        "    curr_node = head\n",
        "    while curr_node != None:\n",
        "        print(f\" {curr_node.data } |  --> \" , end=\"\")\n",
        "        curr_node = curr_node.next\n",
        "    print(\"\")\n",
        "\n",
        "\n",
        "\n",
        "    \n"
      ],
      "execution_count": 4,
      "outputs": [
        {
          "output_type": "stream",
          "name": "stdout",
          "text": [
            " 10 |  -->  20 |  -->  30 |  -->  40 |  --> \n",
            "10\n",
            "40\n",
            "20\n",
            "Despues de insertar 25\n",
            " 10 |  -->  20 |  -->  25 |  -->  30 |  -->  40 |  --> \n"
          ]
        }
      ]
    },
    {
      "cell_type": "markdown",
      "metadata": {
        "id": "8TGSJJzOc6ls"
      },
      "source": [
        ""
      ]
    },
    {
      "cell_type": "code",
      "metadata": {
        "id": "slG7tTcac7I1"
      },
      "source": [
        "    class LinkedList:\n",
        "        def __init__(self):\n",
        "            self.head = None\n",
        "\n",
        "        def is_empty(self): #true o false\n",
        "            return self.head == None \n",
        "\n",
        "        def get_tail(self):\n",
        "            if self.is_empty():\n",
        "                return None\n",
        "            else:\n",
        "                curr_node = self.head\n",
        "                while curr_node.next != None:\n",
        "                    curr_node = curr_node.next \n",
        "            return curr_node\n",
        "\n",
        "        def append(self, value):\n",
        "            if self.head == None:\n",
        "                self.head = Nodo(value)\n",
        "            else:\n",
        "                curr_node = self.head\n",
        "                while curr_node.next != None:\n",
        "                    curr_node = curr_node.next\n",
        "                curr_node.next = Nodo(value)\n",
        "\n",
        "        def transversal(self):\n",
        "            curr_node = self.head\n",
        "            while curr_node != None:\n",
        "                print(f\" | { curr_node.data } | -->\" , end=\"\")\n",
        "                curr_node = curr_node.next\n",
        "            print(\"\")\n",
        "\n",
        "    \n",
        "        def remove(self, value):\n",
        "            if self.head == None:\n",
        "                print(\"Lista vacía, no se puede remover nada\")\n",
        "            else:\n",
        "                curr_node = self.head \n",
        "                aux = None \n",
        "                while curr_node.data != value: # revisar cuando el valor no exista\n",
        "                    aux = curr_node \n",
        "                    curr_node = curr_node.next \n",
        "\n",
        "                if curr_node != None:\n",
        "                    aux.next = curr_node.next\n",
        "                    curr_node = None  \n",
        "\n",
        "        def preppend(self, value):\n",
        "            if self.head == None:\n",
        "                print(\"Está vacio, no se puede preppend\")\n",
        "            else:\n",
        "                aux = self.head\n",
        "                self.head = Nodo(value, aux)\n",
        "\n",
        "        def pop(self):\n",
        "            curr_node = self.head\n",
        "            while curr_node.next.next != None:\n",
        "                curr_node = curr_node.next\n",
        "            print(curr_node.next.data)\n",
        "            curr_node.next = None \n",
        "\n",
        "        def pop_first(self):\n",
        "            print(self.head.data)\n",
        "            self.head = self.head.next \n",
        "\n",
        "\n",
        "\n"
      ],
      "execution_count": 5,
      "outputs": []
    },
    {
      "cell_type": "code",
      "metadata": {
        "colab": {
          "base_uri": "https://localhost:8080/"
        },
        "id": "qn8oQ-RNfhtY",
        "outputId": "ca0c2a89-10bc-467b-9661-ce6cca7d6875"
      },
      "source": [
        "    lista = LinkedList()\n",
        "    if lista.is_empty():\n",
        "        print(\"La lista está vacía\")\n",
        "    else:\n",
        "        print(\"La lista no está vacía\")\n",
        "\n",
        "    lista.append(10)\n",
        "    lista.append(20)\n",
        "    lista.append(30) \n",
        "    lista.append(40)\n",
        "    lista.append(50)  \n",
        "\n",
        "    nodo = lista.get_tail()\n",
        "    if nodo != None:\n",
        "        print(nodo.data)\n",
        "    else: \n",
        "        print(\"Lista está vacía\")\n",
        "\n",
        "    lista.transversal()\n",
        "    lista.remove(30)\n",
        "    lista.transversal()\n",
        "    lista.preppend(5)\n",
        "    print(\"Despues del preppend\")\n",
        "    lista.transversal()\n",
        "    print(\"Esto despues de pop\")\n",
        "    lista.pop()\n",
        "    lista.transversal()\n",
        "    print(\"Esto despues de pop first\")\n",
        "    lista.pop_first()\n",
        "    lista.transversal()\n",
        "   "
      ],
      "execution_count": 6,
      "outputs": [
        {
          "output_type": "stream",
          "name": "stdout",
          "text": [
            "La lista está vacía\n",
            "50\n",
            " | 10 | --> | 20 | --> | 30 | --> | 40 | --> | 50 | -->\n",
            " | 10 | --> | 20 | --> | 40 | --> | 50 | -->\n",
            "Despues del preppend\n",
            " | 5 | --> | 10 | --> | 20 | --> | 40 | --> | 50 | -->\n",
            "Esto despues de pop\n",
            "50\n",
            " | 5 | --> | 10 | --> | 20 | --> | 40 | -->\n",
            "Esto despues de pop first\n",
            "5\n",
            " | 10 | --> | 20 | --> | 40 | -->\n"
          ]
        }
      ]
    },
    {
      "cell_type": "markdown",
      "metadata": {
        "id": "oh4iY78qs6fF"
      },
      "source": [
        "### LISTA DOBLEMENTE LIGADA"
      ]
    },
    {
      "cell_type": "code",
      "metadata": {
        "id": "73VNioWps9fE"
      },
      "source": [
        "    class NodoDoble: \n",
        "        def __init__(self, value, siguiente=None, previo= None):\n",
        "            self.data = value\n",
        "            self.next = siguiente\n",
        "            self.prev = previo \n",
        "            "
      ],
      "execution_count": 7,
      "outputs": []
    },
    {
      "cell_type": "markdown",
      "metadata": {
        "id": "lrqx_RIrtf02"
      },
      "source": [
        "### Ejercicios con la clase nodo doble\n",
        "Crear un nodo 10\n",
        "- imprimir el valor del nodo\n",
        "- Crear 2 nodos (10,20)\n",
        "- imprimir el valr del primero\n",
        "- imprimir el valor del segundo\n",
        "  transversal\n",
        "  - reverse transversal\n",
        "- Lo mismo pero con 4 nodos 10,20,30,40\n",
        "- imprimir el valr del primero\n",
        "- imprimir el valor del ultimo\n",
        "  transversal\n",
        "- insertar el nodo 25, despues del nodo 20 y antes del nodo 3"
      ]
    },
    {
      "cell_type": "code",
      "metadata": {
        "colab": {
          "base_uri": "https://localhost:8080/"
        },
        "id": "egcucHCZt61_",
        "outputId": "42f43389-bbc5-4598-916f-c5abbd2ad431"
      },
      "source": [
        "    # Ejercicio 1\n",
        "    head = NodoDoble(10)\n",
        "    tail = head\n",
        "    print(head.data)\n",
        "    print(tail.data)\n",
        "\n",
        "    # Ejercicio 2\n",
        "    print(\"Ejercicio 2\")\n",
        "    head = NodoDoble(10, NodoDoble(20))\n",
        "    head.next.prev = head\n",
        "    tail = head.next\n",
        "    print(\"El primero: \", head.data)\n",
        "    print(\"El primero: \", tail.prev.data)\n",
        "    print(\"El segundo: \", head.next.data)\n",
        "    print(\"El segundo: \", tail.data)\n",
        "\n",
        "    # Ejercicio 3\n",
        "    \"\"\"\n",
        "    Lo mismo pero con 4 nodos (10,20,30,40)\n",
        "    imprimir el valor del primero\n",
        "    imprimir el valor del ultimo\n",
        "\n",
        "    \"\"\"\n",
        "    print(\"Ejercicio 3\")\n",
        "    head = NodoDoble(10, NodoDoble(20, NodoDoble(30, NodoDoble(40))))\n",
        "    tail = head.next.next.next\n",
        "    head.next.prev = head \n",
        "    head.next.next.prev = head.next \n",
        "    tail.prev = head.next.next\n",
        "    print(\"El primero: \", head.data)\n",
        "    print(\"El primero: \", tail.prev.prev.prev.data)\n",
        "\n",
        "    print(\"El ultimo: \", tail.data)\n",
        "    print(\"El ultimo: \", head.next.next.next.data)\n",
        "\n",
        "    # Transversal\n",
        "    curr_node = head\n",
        "    while curr_node != None:\n",
        "        print(f\" {curr_node.data } |  --> \" , end=\"\")\n",
        "        curr_node = curr_node.next\n",
        "    print(\"\")\n",
        "\n",
        "    # Reverse transversal\n",
        "    curr_node = tail\n",
        "    while curr_node != None:\n",
        "        print(f\" {curr_node.data } |  --> \" , end=\"\")\n",
        "        curr_node = curr_node.prev\n",
        "    print(\"\")\n",
        "\n",
        "    # agregar elemento al final\n",
        "    print(\"Agregando 50 al final\")\n",
        "    tail.next = NodoDoble( 50, None, tail)\n",
        "\n",
        "    # Transversal\n",
        "    curr_node = head\n",
        "    while curr_node != None:\n",
        "        print(f\" {curr_node.data } |  --> \" , end=\"\")\n",
        "        curr_node = curr_node.next\n",
        "    print(\"\")\n",
        "\n",
        "\n",
        "    \n",
        "\n",
        "\n",
        "\n",
        "\n",
        "\n",
        "\n"
      ],
      "execution_count": 8,
      "outputs": [
        {
          "output_type": "stream",
          "name": "stdout",
          "text": [
            "10\n",
            "10\n",
            "Ejercicio 2\n",
            "El primero:  10\n",
            "El primero:  10\n",
            "El segundo:  20\n",
            "El segundo:  20\n",
            "Ejercicio 3\n",
            "El primero:  10\n",
            "El primero:  10\n",
            "El ultimo:  40\n",
            "El ultimo:  40\n",
            " 10 |  -->  20 |  -->  30 |  -->  40 |  --> \n",
            " 40 |  -->  30 |  -->  20 |  -->  10 |  --> \n",
            "Agregando 50 al final\n",
            " 10 |  -->  20 |  -->  30 |  -->  40 |  -->  50 |  --> \n"
          ]
        }
      ]
    },
    {
      "cell_type": "code",
      "metadata": {
        "id": "_0vktGS380P_"
      },
      "source": [
        "    class DoubleLinkedList:\n",
        "        def __init__(self):\n",
        "            self.head = None\n",
        "            self.tail = None\n",
        "            self.size = 0\n",
        "\n",
        "        def get_size(self):\n",
        "            return self.size\n",
        "\n",
        "        def is_empty(self): #true si la lista está vacia\n",
        "            return self.size == 0\n",
        "\n",
        "        def append(self, value):\n",
        "            if self.is_empty():\n",
        "                self.head = NodoDoble(value)\n",
        "                self.tail = self.head\n",
        "            else:\n",
        "                self.tail.next = NodoDoble(value, None, self.tail)\n",
        "                self.tail = self.tail.next\n",
        "            self.size += 1 \n",
        "\n",
        "        def transversal(self):\n",
        "            curr_node = self.head \n",
        "            while curr_node != None :\n",
        "                print(f\"| {curr_node.data} | -->\", end=\"\")\n",
        "                curr_node = curr_node.next\n",
        "            print(\"\")\n",
        "\n",
        "\n",
        "        def remove_from_head(self, value):\n",
        "            curr_node = self.head \n",
        "            while curr_node.data != value: \n",
        "                curr_node = curr_node.next\n",
        "            if curr_node.data == value:\n",
        "                curr_node.prev.next = curr_node.next\n",
        "                curr_node.next.prev = curr_node.prev\n",
        "                \n",
        "           # self.size -= 1\n",
        "\n",
        "\n",
        "        def remove_from_tail(self, value):\n",
        "            curr_node = self.tail\n",
        "            while curr_node.data != value:\n",
        "                curr_node = curr_node.prev\n",
        "        \n",
        "            if curr_node.data == value:\n",
        "                curr_node.next.prev = curr_node.prev\n",
        "                curr_node.prev.next = curr_node.next\n",
        "            \n",
        "           \n",
        "        def find_from_head(self, value):\n",
        "            curr_node = self.head \n",
        "            contador = 0\n",
        "            while curr_node.data != value:\n",
        "                contador += 1\n",
        "                curr_node = curr_node.next\n",
        "\n",
        "            if curr_node.data == value:\n",
        "                print(f\"El nodo está en la posición: {contador + 1} ingresando por head\")\n",
        "\n",
        "\n",
        "        def find_from_tail(self, value):\n",
        "            curr_node = self.tail\n",
        "            contador = 0\n",
        "            while curr_node.data != value:\n",
        "                contador += 1\n",
        "                curr_node = curr_node.prev\n",
        "        \n",
        "            if curr_node.data == value:\n",
        "                print(f\"Su Nodo está en la posición: {contador + 1} ingresando por tail\")\n",
        "            \n",
        "\n",
        "\n",
        "        def reverse_transversal(self):\n",
        "            curr_node = self.tail\n",
        "            while curr_node != None:\n",
        "                print(f\"| {curr_node.data} | -->\", end=\"\")\n",
        "                curr_node = curr_node.prev\n",
        "            print(\"\")\n",
        "\n",
        "\n",
        "\n",
        "\n",
        "        \n"
      ],
      "execution_count": 9,
      "outputs": []
    },
    {
      "cell_type": "code",
      "metadata": {
        "colab": {
          "base_uri": "https://localhost:8080/"
        },
        "id": "izNVawX6_4WP",
        "outputId": "f8b1d44a-7ba4-4797-ee5d-69adf6989825"
      },
      "source": [
        "    ldl = DoubleLinkedList()\n",
        "    ldl.append(10)\n",
        "    ldl.append(20)\n",
        "    ldl.append(30)\n",
        "    ldl.append(40)\n",
        "    ldl.append(50)\n",
        "    ldl.append(60)\n",
        "    ldl.append(70)\n",
        "    ldl.transversal()\n",
        "    print(f\"Esta vacía {ldl.is_empty() } \")\n",
        "\n",
        "    print(\"Con remove_from_head\")\n",
        "    ldl.remove_from_head(30)\n",
        "    ldl.transversal()\n",
        "    print(\"Con remove_from_tail\")\n",
        "    ldl.remove_from_tail(20)\n",
        "    ldl.transversal()\n",
        "    print(\"\")\n",
        "    print(\"Con find_from_head\")\n",
        "    print(f\"Su Lista Doblemente Ligada tiene {ldl.get_size()} elementos\")\n",
        "    print(\"\")\n",
        "    ldl.find_from_head(10)\n",
        "    print(f\"Su Lista Doblemente Ligada tiene {ldl.get_size()} elementos\")\n",
        "    print(\"\")\n",
        "    ldl.find_from_tail(10)\n",
        "    print(\"\")\n",
        "    ldl.find_from_head(50)\n",
        "    print(\"\")\n",
        "    print(\"Con reverse_transversal\")\n",
        "    ldl.reverse_transversal()\n",
        "    \n",
        "\n",
        "\n",
        "\n",
        "\n",
        "    \n"
      ],
      "execution_count": 10,
      "outputs": [
        {
          "output_type": "stream",
          "name": "stdout",
          "text": [
            "| 10 | -->| 20 | -->| 30 | -->| 40 | -->| 50 | -->| 60 | -->| 70 | -->\n",
            "Esta vacía False \n",
            "Con remove_from_head\n",
            "| 10 | -->| 20 | -->| 40 | -->| 50 | -->| 60 | -->| 70 | -->\n",
            "Con remove_from_tail\n",
            "| 10 | -->| 40 | -->| 50 | -->| 60 | -->| 70 | -->\n",
            "\n",
            "Con find_from_head\n",
            "Su Lista Doblemente Ligada tiene 7 elementos\n",
            "\n",
            "El nodo está en la posición: 1 ingresando por head\n",
            "Su Lista Doblemente Ligada tiene 7 elementos\n",
            "\n",
            "Su Nodo está en la posición: 5 ingresando por tail\n",
            "\n",
            "El nodo está en la posición: 3 ingresando por head\n",
            "\n",
            "Con reverse_transversal\n",
            "| 70 | -->| 60 | -->| 50 | -->| 40 | -->| 10 | -->\n"
          ]
        }
      ]
    }
  ]
}